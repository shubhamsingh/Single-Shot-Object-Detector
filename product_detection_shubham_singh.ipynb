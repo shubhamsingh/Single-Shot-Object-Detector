{
 "cells": [
  {
   "cell_type": "code",
   "execution_count": 1,
   "metadata": {},
   "outputs": [],
   "source": [
    "#reference to absolute path where compress folder extracted\n",
    "absolute_path = %pwd\n",
    "absolute_path =  absolute_path + \"/\""
   ]
  },
  {
   "cell_type": "code",
   "execution_count": 2,
   "metadata": {},
   "outputs": [],
   "source": [
    "#removing output file so that don't get any error at runtime\n",
    "\n",
    "import os\n",
    "try:\n",
    "    os.remove(f'{absolute_path}{\"pack_detector/image2products.json\"}')\n",
    "    os.remove(f'{absolute_path}{\"pack_detector/tmp.json\"}')\n",
    "    os.remove(f'{absolute_path}{\"pack_detector/metrics.json\"}')\n",
    "    print(\"All Files are Removed!\")\n",
    "except:\n",
    "    pass"
   ]
  },
  {
   "cell_type": "code",
   "execution_count": 3,
   "metadata": {},
   "outputs": [
    {
     "name": "stderr",
     "output_type": "stream",
     "text": [
      "Using TensorFlow backend.\n"
     ]
    }
   ],
   "source": [
    "#All imports are required for this project\n",
    "\n",
    "import cv2\n",
    "import itertools\n",
    "import json\n",
    "import keras\n",
    "import numpy as np\n",
    "import io\n",
    "import pandas as pd\n",
    "import tensorflow as tf\n",
    "import time\n",
    "\n",
    "from collections import namedtuple, OrderedDict\n",
    "from keras.preprocessing.image import ImageDataGenerator\n",
    "from keras.models import Sequential, load_model\n",
    "from keras.layers import Dense, Dropout, Activation, Flatten, Input\n",
    "from keras.layers import Conv2D, MaxPooling2D, AveragePooling2D\n",
    "from keras.layers import BatchNormalization\n",
    "from keras.regularizers import l2\n",
    "from keras.models import Model\n",
    "from keras.optimizers import Adam\n",
    "from keras.callbacks import LearningRateScheduler\n",
    "from keras import backend as K\n",
    "\n",
    "from object_detection.utils import dataset_util\n",
    "from object_detection.utils import ops as utils_ops\n",
    "from object_detection.utils import label_map_util\n",
    "from object_detection.utils import visualization_utils as vis_util\n",
    "\n",
    "from PIL import Image\n",
    "\n",
    "from sklearn.metrics import precision_score\n",
    "from sklearn.metrics import recall_score\n",
    "from sklearn.metrics import confusion_matrix\n",
    "from sklearn.metrics import precision_recall_curve\n",
    "from sklearn.metrics import average_precision_score\n",
    "from sklearn.metrics import classification_report\n",
    "from sklearn.model_selection import train_test_split\n",
    "\n",
    "from matplotlib import pyplot as plt\n",
    "%matplotlib inline\n",
    "\n",
    "import warnings\n",
    "warnings.filterwarnings('ignore')"
   ]
  },
  {
   "cell_type": "code",
   "execution_count": 4,
   "metadata": {},
   "outputs": [],
   "source": [
    "data_path = absolute_path\n",
    "shelf_images = f'{absolute_path}{\"ShelfImages/\"}'\n",
    "product_images = f'{absolute_path}{\"GroceryDataset_part2/ProductImagesFromShelves/\"}'\n",
    " \n",
    "PATH_TO_MODEL = f'{absolute_path}{\"pack_detector/pack_detector_fg/frozen_inference_graph.pb\"}'\n",
    "PATH_TO_LABELS = f'{absolute_path}{\"pack_detector/data/pack.pbtxt\"}'\n",
    "PATH_TO_IMAGES = f'{absolute_path}{\"ShelfImages/test/\"}'\n",
    "PATH_TO_DATA = absolute_path\n",
    "PATH_TO_ANNOTATION = f'{absolute_path}{\"pack_detector/annotation.txt\"}'\n",
    "shelf_images_train = f'{absolute_path}{\"ShelfImages/train/\"}'\n",
    "shelf_images_test = f'{absolute_path}{\"ShelfImages/test/\"}'\n",
    "NUM_CLASSES = 1\n",
    "\n",
    "img_path = f'{absolute_path}{\"ShelfImages/\"}'\n",
    "cropped_path = f'{absolute_path}{\"pack_detector/models/ssd_mobilenet_v1/\"}'\n",
    "detector_data_path = f'{absolute_path}{\"pack_detector/data/\"}'\n",
    "output_image_path = f'{absolute_path}{\"pack_detector/Output/\"}'"
   ]
  },
  {
   "cell_type": "code",
   "execution_count": 5,
   "metadata": {},
   "outputs": [
    {
     "data": {
      "text/plain": [
       "[file            283\n",
       " shelf_id        283\n",
       " planogram_id    283\n",
       " dtype: int64,\n",
       " file            71\n",
       " shelf_id        71\n",
       " planogram_id    71\n",
       " dtype: int64]"
      ]
     },
     "execution_count": 5,
     "metadata": {},
     "output_type": "execute_result"
    }
   ],
   "source": [
    "#defining train and test sets as mentioned in assignment\n",
    "#And train:set is counts 283:71 \n",
    "files = [f for f in os.listdir(f'{shelf_images}{\"train\"}') if f.endswith('JPG')]\n",
    "train_df = pd.DataFrame([[f, f[:6], f[7:14]] for f in files], \n",
    "                         columns=['file', 'shelf_id', 'planogram_id'])\n",
    "files = [f for f in os.listdir(f'{shelf_images}{\"test\"}') if f.endswith('JPG')]\n",
    "test_df = pd.DataFrame([[f, f[:6], f[7:14]] for f in files], \n",
    "                         columns=['file', 'shelf_id', 'planogram_id'])\n",
    "[train_df.count(),test_df.count()]"
   ]
  },
  {
   "cell_type": "code",
   "execution_count": 6,
   "metadata": {},
   "outputs": [
    {
     "data": {
      "text/html": [
       "<div>\n",
       "<style scoped>\n",
       "    .dataframe tbody tr th:only-of-type {\n",
       "        vertical-align: middle;\n",
       "    }\n",
       "\n",
       "    .dataframe tbody tr th {\n",
       "        vertical-align: top;\n",
       "    }\n",
       "\n",
       "    .dataframe thead th {\n",
       "        text-align: right;\n",
       "    }\n",
       "</style>\n",
       "<table border=\"1\" class=\"dataframe\">\n",
       "  <thead>\n",
       "    <tr style=\"text-align: right;\">\n",
       "      <th></th>\n",
       "      <th>file</th>\n",
       "      <th>shelf_id</th>\n",
       "      <th>planogram_id</th>\n",
       "      <th>category</th>\n",
       "      <th>xmin</th>\n",
       "      <th>ymin</th>\n",
       "      <th>w</th>\n",
       "      <th>h</th>\n",
       "      <th>xmax</th>\n",
       "      <th>ymax</th>\n",
       "    </tr>\n",
       "  </thead>\n",
       "  <tbody>\n",
       "    <tr>\n",
       "      <th>0</th>\n",
       "      <td>C4_P04_N3_S3_1.JPG</td>\n",
       "      <td>C4_P04</td>\n",
       "      <td>N3_S3_1</td>\n",
       "      <td>0</td>\n",
       "      <td>556</td>\n",
       "      <td>108</td>\n",
       "      <td>224</td>\n",
       "      <td>364</td>\n",
       "      <td>780</td>\n",
       "      <td>472</td>\n",
       "    </tr>\n",
       "    <tr>\n",
       "      <th>1</th>\n",
       "      <td>C1_P12_N3_S4_1.JPG</td>\n",
       "      <td>C1_P12</td>\n",
       "      <td>N3_S4_1</td>\n",
       "      <td>0</td>\n",
       "      <td>92</td>\n",
       "      <td>2004</td>\n",
       "      <td>216</td>\n",
       "      <td>332</td>\n",
       "      <td>308</td>\n",
       "      <td>2336</td>\n",
       "    </tr>\n",
       "    <tr>\n",
       "      <th>2</th>\n",
       "      <td>C4_P06_N1_S4_1.JPG</td>\n",
       "      <td>C4_P06</td>\n",
       "      <td>N1_S4_1</td>\n",
       "      <td>0</td>\n",
       "      <td>2316</td>\n",
       "      <td>764</td>\n",
       "      <td>216</td>\n",
       "      <td>312</td>\n",
       "      <td>2532</td>\n",
       "      <td>1076</td>\n",
       "    </tr>\n",
       "    <tr>\n",
       "      <th>3</th>\n",
       "      <td>C3_P01_N2_S2_1.JPG</td>\n",
       "      <td>C3_P01</td>\n",
       "      <td>N2_S2_1</td>\n",
       "      <td>0</td>\n",
       "      <td>2472</td>\n",
       "      <td>1524</td>\n",
       "      <td>352</td>\n",
       "      <td>584</td>\n",
       "      <td>2824</td>\n",
       "      <td>2108</td>\n",
       "    </tr>\n",
       "    <tr>\n",
       "      <th>4</th>\n",
       "      <td>C2_P07_N2_S2_1.JPG</td>\n",
       "      <td>C2_P07</td>\n",
       "      <td>N2_S2_1</td>\n",
       "      <td>0</td>\n",
       "      <td>468</td>\n",
       "      <td>996</td>\n",
       "      <td>244</td>\n",
       "      <td>388</td>\n",
       "      <td>712</td>\n",
       "      <td>1384</td>\n",
       "    </tr>\n",
       "  </tbody>\n",
       "</table>\n",
       "</div>"
      ],
      "text/plain": [
       "                 file shelf_id planogram_id  category  xmin  ymin    w    h  \\\n",
       "0  C4_P04_N3_S3_1.JPG   C4_P04      N3_S3_1         0   556   108  224  364   \n",
       "1  C1_P12_N3_S4_1.JPG   C1_P12      N3_S4_1         0    92  2004  216  332   \n",
       "2  C4_P06_N1_S4_1.JPG   C4_P06      N1_S4_1         0  2316   764  216  312   \n",
       "3  C3_P01_N2_S2_1.JPG   C3_P01      N2_S2_1         0  2472  1524  352  584   \n",
       "4  C2_P07_N2_S2_1.JPG   C2_P07      N2_S2_1         0   468   996  244  388   \n",
       "\n",
       "   xmax  ymax  \n",
       "0   780   472  \n",
       "1   308  2336  \n",
       "2  2532  1076  \n",
       "3  2824  2108  \n",
       "4   712  1384  "
      ]
     },
     "execution_count": 6,
     "metadata": {},
     "output_type": "execute_result"
    }
   ],
   "source": [
    "products_df = pd.DataFrame(\n",
    "    [[f[:18], f[:6], f[7:14], i, *map(int, f[19:-4].split('_'))] \n",
    "     for i in range(11) \n",
    "     for f in os.listdir(f'{product_images}{i}') if f.endswith('png')],\n",
    "    columns=['file', 'shelf_id', 'planogram_id', \n",
    "             'category', 'xmin', 'ymin', 'w', 'h'])\n",
    "products_df['xmax'] = products_df['xmin'] + products_df['w']\n",
    "products_df['ymax'] = products_df['ymin'] + products_df['h']\n",
    "products_df.head()"
   ]
  },
  {
   "cell_type": "code",
   "execution_count": 7,
   "metadata": {},
   "outputs": [],
   "source": [
    "shelves = list(set(train_df['shelf_id'].values))"
   ]
  },
  {
   "cell_type": "code",
   "execution_count": 8,
   "metadata": {},
   "outputs": [],
   "source": [
    "#Brand Recognition"
   ]
  },
  {
   "cell_type": "code",
   "execution_count": 9,
   "metadata": {},
   "outputs": [],
   "source": [
    "shelves_train, shelves_validation, _, _ = train_test_split(\n",
    "    shelves, shelves, test_size=0.3, random_state=6)\n",
    "\n",
    "def train(shelf_id): return True\n",
    "def test(shelf_id): return False\n",
    "def is_train(shelf_id): return shelf_id in shelves_train\n",
    "\n",
    "train_df['is_train'] = train_df.shelf_id.apply(train)\n",
    "test_df['is_train'] = test_df.shelf_id.apply(test)\n",
    "training_df = train_df.append(test_df)\n",
    "products_df['is_train'] = products_df.shelf_id.apply(is_train)"
   ]
  },
  {
   "cell_type": "code",
   "execution_count": 10,
   "metadata": {},
   "outputs": [],
   "source": [
    "#for using neural network, I have to fix the image size. \n",
    "num_classes = 10\n",
    "SHAPE_WIDTH = 80\n",
    "SHAPE_HEIGHT = 120"
   ]
  },
  {
   "cell_type": "code",
   "execution_count": 11,
   "metadata": {},
   "outputs": [],
   "source": [
    "def resize_image(img):\n",
    "    fx_ratio = SHAPE_WIDTH / img.shape[1]\n",
    "    fy_ratio = SHAPE_HEIGHT / img.shape[0]    \n",
    "    img = cv2.resize(img, (0, 0), fx=fx_ratio, fy=fy_ratio)\n",
    "    return img[0:SHAPE_HEIGHT, 0:SHAPE_WIDTH]"
   ]
  },
  {
   "cell_type": "code",
   "execution_count": 12,
   "metadata": {},
   "outputs": [],
   "source": [
    "# x - image, y - class, f - is_train flag\n",
    "x, y, f = [], [], []\n",
    "for file, is_train in training_df[['file', 'is_train']].values:\n",
    "    photo_rects = products_df[products_df.file == file]\n",
    "    rects_data = photo_rects[['category', 'xmin', 'ymin', 'xmax', 'ymax']]\n",
    "    if is_train == True:\n",
    "        shelf_images = shelf_images_train\n",
    "    else:\n",
    "        shelf_images = shelf_images_test\n",
    "    im = cv2.imread(f'{shelf_images}{file}')\n",
    "    im = cv2.cvtColor(im, cv2.COLOR_BGR2RGB)\n",
    "    for category, xmin, ymin, xmax, ymax in rects_data.values:\n",
    "        if category == 0:\n",
    "            continue\n",
    "        img = resize_image(np.array(im[ymin:ymax, xmin:xmax]))\n",
    "        x.append(img)\n",
    "        f.append(is_train)\n",
    "        y.append(category - 1)"
   ]
  },
  {
   "cell_type": "code",
   "execution_count": 13,
   "metadata": {},
   "outputs": [],
   "source": [
    "x = np.array(x)\n",
    "y = np.array(y)\n",
    "f = np.array(f)\n",
    "x_train, x_validation, y_train, y_validation = x[f], x[~f], y[f], y[~f]\n",
    "x_validation_images = x_validation"
   ]
  },
  {
   "cell_type": "code",
   "execution_count": 14,
   "metadata": {},
   "outputs": [],
   "source": [
    "# convert y_train and y_validation to one-hot arrays\n",
    "y_train = keras.utils.to_categorical(y_train, num_classes)\n",
    "y_validation = keras.utils.to_categorical(y_validation, num_classes)"
   ]
  },
  {
   "cell_type": "code",
   "execution_count": 15,
   "metadata": {},
   "outputs": [],
   "source": [
    "# normalization\n",
    "x_train = x_train.astype('float32')\n",
    "x_validation = x_validation.astype('float32')\n",
    "x_train /= 255\n",
    "x_validation /= 255"
   ]
  },
  {
   "cell_type": "code",
   "execution_count": 16,
   "metadata": {},
   "outputs": [
    {
     "name": "stdout",
     "output_type": "stream",
     "text": [
      "x_train shape: (2119, 120, 80, 3)\n",
      "y_train shape: (2119, 10)\n",
      "2119 train samples\n",
      "625 validation samples\n"
     ]
    }
   ],
   "source": [
    "print('x_train shape:', x_train.shape)\n",
    "print('y_train shape:', y_train.shape)\n",
    "print(x_train.shape[0], 'train samples')\n",
    "print(x_validation.shape[0], 'validation samples')"
   ]
  },
  {
   "cell_type": "code",
   "execution_count": 17,
   "metadata": {},
   "outputs": [
    {
     "name": "stdout",
     "output_type": "stream",
     "text": [
      "WARNING:tensorflow:From /Users/shubhamsingh/opt/anaconda3/lib/python3.7/site-packages/keras/backend/tensorflow_backend.py:4074: The name tf.nn.avg_pool is deprecated. Please use tf.nn.avg_pool2d instead.\n",
      "\n",
      "Learning rate:  0.001\n"
     ]
    }
   ],
   "source": [
    "# Building ResNet CNN.\n",
    "def lr_schedule(epoch):\n",
    "    lr = 1e-3\n",
    "    if epoch > 5:\n",
    "        lr *= 1e-1\n",
    "    print('Learning rate: ', lr)\n",
    "    return lr\n",
    "\n",
    "\n",
    "def resnet_layer(inputs,\n",
    "                 num_filters=16,\n",
    "                 kernel_size=3,\n",
    "                 strides=1,\n",
    "                 activation='relu',\n",
    "                 batch_normalization=True,\n",
    "                 conv_first=True):\n",
    "    conv = Conv2D(num_filters,\n",
    "                  kernel_size=kernel_size,\n",
    "                  strides=strides,\n",
    "                  padding='same',\n",
    "                  kernel_initializer='he_normal',\n",
    "                  kernel_regularizer=l2(1e-4))\n",
    "\n",
    "    x = inputs\n",
    "    if conv_first:\n",
    "        x = conv(x)\n",
    "        if batch_normalization:\n",
    "            x = BatchNormalization()(x)\n",
    "        if activation is not None:\n",
    "            x = Activation(activation)(x)\n",
    "    else:\n",
    "        if batch_normalization:\n",
    "            x = BatchNormalization()(x)\n",
    "        if activation is not None:\n",
    "            x = Activation(activation)(x)\n",
    "        x = conv(x)\n",
    "    return x\n",
    "\n",
    "\n",
    "def resnet_v1(input_shape, depth, num_classes=10):\n",
    "    if (depth - 2) % 6 != 0:\n",
    "        raise ValueError('depth should be 6n+2 (eg 20, 32, 44 in [a])')\n",
    "    # Start model definition.\n",
    "    num_filters = 16\n",
    "    num_res_blocks = int((depth - 2) / 6)\n",
    "\n",
    "    inputs = Input(shape=x_train.shape[1:])\n",
    "    x = resnet_layer(inputs=inputs)\n",
    "    # Instantiate the stack of residual units\n",
    "    for stack in range(3):\n",
    "        for res_block in range(num_res_blocks):\n",
    "            strides = 1\n",
    "            if stack > 0 and res_block == 0:  \n",
    "                strides = 2  # downsample\n",
    "            y = resnet_layer(inputs=x,\n",
    "                             num_filters=num_filters,\n",
    "                             strides=strides)\n",
    "            y = resnet_layer(inputs=y,\n",
    "                             num_filters=num_filters,\n",
    "                             activation=None)\n",
    "            if stack > 0 and res_block == 0:  \n",
    "                # linear projection residual shortcut connection to match\n",
    "                # changed dims\n",
    "                x = resnet_layer(inputs=x,\n",
    "                                 num_filters=num_filters,\n",
    "                                 kernel_size=1,\n",
    "                                 strides=strides,\n",
    "                                 activation=None,\n",
    "                                 batch_normalization=False)\n",
    "            x = keras.layers.add([x, y])\n",
    "            x = Activation('relu')(x)\n",
    "        num_filters *= 2\n",
    "\n",
    "    # Add classifier on top.\n",
    "    x = AveragePooling2D(pool_size=8)(x)\n",
    "    y = Flatten()(x)\n",
    "    outputs = Dense(num_classes,\n",
    "                    activation='softmax',\n",
    "                    kernel_initializer='he_normal')(y)\n",
    "\n",
    "    # Instantiate model.\n",
    "    model = Model(inputs=inputs, outputs=outputs)\n",
    "    return model\n",
    "\n",
    "n = 3\n",
    "version = 1\n",
    "if version == 1:\n",
    "    depth = n * 6 + 2\n",
    "elif version == 2:\n",
    "    depth = n * 9 + 2\n",
    "model_type = 'ResNet%dv%d' % (depth, version)\n",
    "\n",
    "model = resnet_v1(input_shape=x_train.shape[1:], depth=depth, num_classes=num_classes)\n",
    "model.compile(loss='categorical_crossentropy',\n",
    "              optimizer=Adam(lr=lr_schedule(0)), metrics=['accuracy'])\n"
   ]
  },
  {
   "cell_type": "code",
   "execution_count": 18,
   "metadata": {},
   "outputs": [
    {
     "name": "stdout",
     "output_type": "stream",
     "text": [
      "Model: \"model_1\"\n",
      "__________________________________________________________________________________________________\n",
      "Layer (type)                    Output Shape         Param #     Connected to                     \n",
      "==================================================================================================\n",
      "input_1 (InputLayer)            (None, 120, 80, 3)   0                                            \n",
      "__________________________________________________________________________________________________\n",
      "conv2d_1 (Conv2D)               (None, 120, 80, 16)  448         input_1[0][0]                    \n",
      "__________________________________________________________________________________________________\n",
      "batch_normalization_1 (BatchNor (None, 120, 80, 16)  64          conv2d_1[0][0]                   \n",
      "__________________________________________________________________________________________________\n",
      "activation_1 (Activation)       (None, 120, 80, 16)  0           batch_normalization_1[0][0]      \n",
      "__________________________________________________________________________________________________\n",
      "conv2d_2 (Conv2D)               (None, 120, 80, 16)  2320        activation_1[0][0]               \n",
      "__________________________________________________________________________________________________\n",
      "batch_normalization_2 (BatchNor (None, 120, 80, 16)  64          conv2d_2[0][0]                   \n",
      "__________________________________________________________________________________________________\n",
      "activation_2 (Activation)       (None, 120, 80, 16)  0           batch_normalization_2[0][0]      \n",
      "__________________________________________________________________________________________________\n",
      "conv2d_3 (Conv2D)               (None, 120, 80, 16)  2320        activation_2[0][0]               \n",
      "__________________________________________________________________________________________________\n",
      "batch_normalization_3 (BatchNor (None, 120, 80, 16)  64          conv2d_3[0][0]                   \n",
      "__________________________________________________________________________________________________\n",
      "add_1 (Add)                     (None, 120, 80, 16)  0           activation_1[0][0]               \n",
      "                                                                 batch_normalization_3[0][0]      \n",
      "__________________________________________________________________________________________________\n",
      "activation_3 (Activation)       (None, 120, 80, 16)  0           add_1[0][0]                      \n",
      "__________________________________________________________________________________________________\n",
      "conv2d_4 (Conv2D)               (None, 120, 80, 16)  2320        activation_3[0][0]               \n",
      "__________________________________________________________________________________________________\n",
      "batch_normalization_4 (BatchNor (None, 120, 80, 16)  64          conv2d_4[0][0]                   \n",
      "__________________________________________________________________________________________________\n",
      "activation_4 (Activation)       (None, 120, 80, 16)  0           batch_normalization_4[0][0]      \n",
      "__________________________________________________________________________________________________\n",
      "conv2d_5 (Conv2D)               (None, 120, 80, 16)  2320        activation_4[0][0]               \n",
      "__________________________________________________________________________________________________\n",
      "batch_normalization_5 (BatchNor (None, 120, 80, 16)  64          conv2d_5[0][0]                   \n",
      "__________________________________________________________________________________________________\n",
      "add_2 (Add)                     (None, 120, 80, 16)  0           activation_3[0][0]               \n",
      "                                                                 batch_normalization_5[0][0]      \n",
      "__________________________________________________________________________________________________\n",
      "activation_5 (Activation)       (None, 120, 80, 16)  0           add_2[0][0]                      \n",
      "__________________________________________________________________________________________________\n",
      "conv2d_6 (Conv2D)               (None, 120, 80, 16)  2320        activation_5[0][0]               \n",
      "__________________________________________________________________________________________________\n",
      "batch_normalization_6 (BatchNor (None, 120, 80, 16)  64          conv2d_6[0][0]                   \n",
      "__________________________________________________________________________________________________\n",
      "activation_6 (Activation)       (None, 120, 80, 16)  0           batch_normalization_6[0][0]      \n",
      "__________________________________________________________________________________________________\n",
      "conv2d_7 (Conv2D)               (None, 120, 80, 16)  2320        activation_6[0][0]               \n",
      "__________________________________________________________________________________________________\n",
      "batch_normalization_7 (BatchNor (None, 120, 80, 16)  64          conv2d_7[0][0]                   \n",
      "__________________________________________________________________________________________________\n",
      "add_3 (Add)                     (None, 120, 80, 16)  0           activation_5[0][0]               \n",
      "                                                                 batch_normalization_7[0][0]      \n",
      "__________________________________________________________________________________________________\n",
      "activation_7 (Activation)       (None, 120, 80, 16)  0           add_3[0][0]                      \n",
      "__________________________________________________________________________________________________\n",
      "conv2d_8 (Conv2D)               (None, 60, 40, 32)   4640        activation_7[0][0]               \n",
      "__________________________________________________________________________________________________\n",
      "batch_normalization_8 (BatchNor (None, 60, 40, 32)   128         conv2d_8[0][0]                   \n",
      "__________________________________________________________________________________________________\n",
      "activation_8 (Activation)       (None, 60, 40, 32)   0           batch_normalization_8[0][0]      \n",
      "__________________________________________________________________________________________________\n",
      "conv2d_9 (Conv2D)               (None, 60, 40, 32)   9248        activation_8[0][0]               \n",
      "__________________________________________________________________________________________________\n",
      "conv2d_10 (Conv2D)              (None, 60, 40, 32)   544         activation_7[0][0]               \n",
      "__________________________________________________________________________________________________\n",
      "batch_normalization_9 (BatchNor (None, 60, 40, 32)   128         conv2d_9[0][0]                   \n",
      "__________________________________________________________________________________________________\n",
      "add_4 (Add)                     (None, 60, 40, 32)   0           conv2d_10[0][0]                  \n",
      "                                                                 batch_normalization_9[0][0]      \n",
      "__________________________________________________________________________________________________\n",
      "activation_9 (Activation)       (None, 60, 40, 32)   0           add_4[0][0]                      \n",
      "__________________________________________________________________________________________________\n",
      "conv2d_11 (Conv2D)              (None, 60, 40, 32)   9248        activation_9[0][0]               \n",
      "__________________________________________________________________________________________________\n",
      "batch_normalization_10 (BatchNo (None, 60, 40, 32)   128         conv2d_11[0][0]                  \n",
      "__________________________________________________________________________________________________\n",
      "activation_10 (Activation)      (None, 60, 40, 32)   0           batch_normalization_10[0][0]     \n",
      "__________________________________________________________________________________________________\n",
      "conv2d_12 (Conv2D)              (None, 60, 40, 32)   9248        activation_10[0][0]              \n",
      "__________________________________________________________________________________________________\n",
      "batch_normalization_11 (BatchNo (None, 60, 40, 32)   128         conv2d_12[0][0]                  \n",
      "__________________________________________________________________________________________________\n",
      "add_5 (Add)                     (None, 60, 40, 32)   0           activation_9[0][0]               \n",
      "                                                                 batch_normalization_11[0][0]     \n",
      "__________________________________________________________________________________________________\n",
      "activation_11 (Activation)      (None, 60, 40, 32)   0           add_5[0][0]                      \n",
      "__________________________________________________________________________________________________\n",
      "conv2d_13 (Conv2D)              (None, 60, 40, 32)   9248        activation_11[0][0]              \n",
      "__________________________________________________________________________________________________\n",
      "batch_normalization_12 (BatchNo (None, 60, 40, 32)   128         conv2d_13[0][0]                  \n",
      "__________________________________________________________________________________________________\n",
      "activation_12 (Activation)      (None, 60, 40, 32)   0           batch_normalization_12[0][0]     \n",
      "__________________________________________________________________________________________________\n",
      "conv2d_14 (Conv2D)              (None, 60, 40, 32)   9248        activation_12[0][0]              \n",
      "__________________________________________________________________________________________________\n",
      "batch_normalization_13 (BatchNo (None, 60, 40, 32)   128         conv2d_14[0][0]                  \n",
      "__________________________________________________________________________________________________\n",
      "add_6 (Add)                     (None, 60, 40, 32)   0           activation_11[0][0]              \n",
      "                                                                 batch_normalization_13[0][0]     \n",
      "__________________________________________________________________________________________________\n",
      "activation_13 (Activation)      (None, 60, 40, 32)   0           add_6[0][0]                      \n",
      "__________________________________________________________________________________________________\n",
      "conv2d_15 (Conv2D)              (None, 30, 20, 64)   18496       activation_13[0][0]              \n",
      "__________________________________________________________________________________________________\n",
      "batch_normalization_14 (BatchNo (None, 30, 20, 64)   256         conv2d_15[0][0]                  \n",
      "__________________________________________________________________________________________________\n",
      "activation_14 (Activation)      (None, 30, 20, 64)   0           batch_normalization_14[0][0]     \n",
      "__________________________________________________________________________________________________\n",
      "conv2d_16 (Conv2D)              (None, 30, 20, 64)   36928       activation_14[0][0]              \n",
      "__________________________________________________________________________________________________\n",
      "conv2d_17 (Conv2D)              (None, 30, 20, 64)   2112        activation_13[0][0]              \n",
      "__________________________________________________________________________________________________\n",
      "batch_normalization_15 (BatchNo (None, 30, 20, 64)   256         conv2d_16[0][0]                  \n",
      "__________________________________________________________________________________________________\n",
      "add_7 (Add)                     (None, 30, 20, 64)   0           conv2d_17[0][0]                  \n",
      "                                                                 batch_normalization_15[0][0]     \n",
      "__________________________________________________________________________________________________\n",
      "activation_15 (Activation)      (None, 30, 20, 64)   0           add_7[0][0]                      \n",
      "__________________________________________________________________________________________________\n",
      "conv2d_18 (Conv2D)              (None, 30, 20, 64)   36928       activation_15[0][0]              \n",
      "__________________________________________________________________________________________________\n",
      "batch_normalization_16 (BatchNo (None, 30, 20, 64)   256         conv2d_18[0][0]                  \n",
      "__________________________________________________________________________________________________\n",
      "activation_16 (Activation)      (None, 30, 20, 64)   0           batch_normalization_16[0][0]     \n",
      "__________________________________________________________________________________________________\n",
      "conv2d_19 (Conv2D)              (None, 30, 20, 64)   36928       activation_16[0][0]              \n",
      "__________________________________________________________________________________________________\n",
      "batch_normalization_17 (BatchNo (None, 30, 20, 64)   256         conv2d_19[0][0]                  \n",
      "__________________________________________________________________________________________________\n",
      "add_8 (Add)                     (None, 30, 20, 64)   0           activation_15[0][0]              \n",
      "                                                                 batch_normalization_17[0][0]     \n",
      "__________________________________________________________________________________________________\n",
      "activation_17 (Activation)      (None, 30, 20, 64)   0           add_8[0][0]                      \n",
      "__________________________________________________________________________________________________\n",
      "conv2d_20 (Conv2D)              (None, 30, 20, 64)   36928       activation_17[0][0]              \n",
      "__________________________________________________________________________________________________\n",
      "batch_normalization_18 (BatchNo (None, 30, 20, 64)   256         conv2d_20[0][0]                  \n",
      "__________________________________________________________________________________________________\n",
      "activation_18 (Activation)      (None, 30, 20, 64)   0           batch_normalization_18[0][0]     \n",
      "__________________________________________________________________________________________________\n",
      "conv2d_21 (Conv2D)              (None, 30, 20, 64)   36928       activation_18[0][0]              \n",
      "__________________________________________________________________________________________________\n",
      "batch_normalization_19 (BatchNo (None, 30, 20, 64)   256         conv2d_21[0][0]                  \n",
      "__________________________________________________________________________________________________\n",
      "add_9 (Add)                     (None, 30, 20, 64)   0           activation_17[0][0]              \n",
      "                                                                 batch_normalization_19[0][0]     \n",
      "__________________________________________________________________________________________________\n",
      "activation_19 (Activation)      (None, 30, 20, 64)   0           add_9[0][0]                      \n",
      "__________________________________________________________________________________________________\n",
      "average_pooling2d_1 (AveragePoo (None, 3, 2, 64)     0           activation_19[0][0]              \n",
      "__________________________________________________________________________________________________\n",
      "flatten_1 (Flatten)             (None, 384)          0           average_pooling2d_1[0][0]        \n",
      "__________________________________________________________________________________________________\n",
      "dense_1 (Dense)                 (None, 10)           3850        flatten_1[0][0]                  \n",
      "==================================================================================================\n",
      "Total params: 277,642\n",
      "Trainable params: 276,266\n",
      "Non-trainable params: 1,376\n",
      "__________________________________________________________________________________________________\n"
     ]
    }
   ],
   "source": [
    "model.summary()"
   ]
  },
  {
   "cell_type": "code",
   "execution_count": 19,
   "metadata": {},
   "outputs": [],
   "source": [
    "# This will do preprocessing and realtime data augmentation:\n",
    "datagen = ImageDataGenerator(\n",
    "    featurewise_center=False,  # set input mean to 0 over the dataset\n",
    "    samplewise_center=False,  # set each sample mean to 0\n",
    "    featurewise_std_normalization=False,  # divide inputs by std of the dataset\n",
    "    samplewise_std_normalization=False,  # divide each input by its std\n",
    "    zca_whitening=False,  # apply ZCA whitening\n",
    "    rotation_range=5,  # randomly rotate images in the range (degrees, 0 to 180)\n",
    "    width_shift_range=0.1,  # randomly shift images horizontally (fraction of total width)\n",
    "    height_shift_range=0.1,  # randomly shift images vertically (fraction of total height)\n",
    "    horizontal_flip=True,  # randomly flip images\n",
    "    vertical_flip=True)  # randomly flip images\n",
    "datagen.fit(x_train)"
   ]
  },
  {
   "cell_type": "code",
   "execution_count": 20,
   "metadata": {
    "scrolled": true
   },
   "outputs": [
    {
     "name": "stdout",
     "output_type": "stream",
     "text": [
      "WARNING:tensorflow:From /Users/shubhamsingh/opt/anaconda3/lib/python3.7/site-packages/keras/backend/tensorflow_backend.py:422: The name tf.global_variables is deprecated. Please use tf.compat.v1.global_variables instead.\n",
      "\n",
      "Epoch 1/15\n",
      "Learning rate:  0.001\n",
      "43/43 [==============================] - 255s 6s/step - loss: 1.8201 - accuracy: 0.5021 - val_loss: 3.4674 - val_accuracy: 0.1312\n",
      "Epoch 2/15\n",
      "Learning rate:  0.001\n",
      "43/43 [==============================] - 259s 6s/step - loss: 0.9617 - accuracy: 0.7471 - val_loss: 6.8243 - val_accuracy: 0.1232\n",
      "Epoch 3/15\n",
      "Learning rate:  0.001\n",
      "43/43 [==============================] - 262s 6s/step - loss: 0.6791 - accuracy: 0.8429 - val_loss: 2.3942 - val_accuracy: 0.5248\n",
      "Epoch 4/15\n",
      "Learning rate:  0.001\n",
      "43/43 [==============================] - 276s 6s/step - loss: 0.5813 - accuracy: 0.8735 - val_loss: 1.2416 - val_accuracy: 0.7056\n",
      "Epoch 5/15\n",
      "Learning rate:  0.001\n",
      "43/43 [==============================] - 274s 6s/step - loss: 0.4632 - accuracy: 0.9094 - val_loss: 1.2089 - val_accuracy: 0.7328\n",
      "Epoch 6/15\n",
      "Learning rate:  0.001\n",
      "43/43 [==============================] - 278s 6s/step - loss: 0.3981 - accuracy: 0.9363 - val_loss: 1.7069 - val_accuracy: 0.5968\n",
      "Epoch 7/15\n",
      "Learning rate:  0.0001\n",
      "43/43 [==============================] - 271s 6s/step - loss: 0.3371 - accuracy: 0.9533 - val_loss: 0.8870 - val_accuracy: 0.8048\n",
      "Epoch 8/15\n",
      "Learning rate:  0.0001\n",
      "43/43 [==============================] - 230s 5s/step - loss: 0.3162 - accuracy: 0.9538 - val_loss: 0.7836 - val_accuracy: 0.8384\n",
      "Epoch 9/15\n",
      "Learning rate:  0.0001\n",
      "43/43 [==============================] - 229s 5s/step - loss: 0.3077 - accuracy: 0.9613 - val_loss: 0.7367 - val_accuracy: 0.8464\n",
      "Epoch 10/15\n",
      "Learning rate:  0.0001\n",
      "43/43 [==============================] - 229s 5s/step - loss: 0.3021 - accuracy: 0.9613 - val_loss: 0.7229 - val_accuracy: 0.8672\n",
      "Epoch 11/15\n",
      "Learning rate:  0.0001\n",
      "43/43 [==============================] - 227s 5s/step - loss: 0.2828 - accuracy: 0.9679 - val_loss: 0.7048 - val_accuracy: 0.8736\n",
      "Epoch 12/15\n",
      "Learning rate:  0.0001\n",
      "43/43 [==============================] - 227s 5s/step - loss: 0.2793 - accuracy: 0.9665 - val_loss: 0.7133 - val_accuracy: 0.8736\n",
      "Epoch 13/15\n",
      "Learning rate:  0.0001\n",
      "43/43 [==============================] - 228s 5s/step - loss: 0.2825 - accuracy: 0.9674 - val_loss: 0.6800 - val_accuracy: 0.8784\n",
      "Epoch 14/15\n",
      "Learning rate:  0.0001\n",
      "43/43 [==============================] - 236s 5s/step - loss: 0.2792 - accuracy: 0.9632 - val_loss: 0.7031 - val_accuracy: 0.8832\n",
      "Epoch 15/15\n",
      "Learning rate:  0.0001\n",
      "43/43 [==============================] - 229s 5s/step - loss: 0.2659 - accuracy: 0.9731 - val_loss: 0.7220 - val_accuracy: 0.8832\n"
     ]
    },
    {
     "data": {
      "text/plain": [
       "<keras.callbacks.callbacks.History at 0x1a6a338790>"
      ]
     },
     "execution_count": 20,
     "metadata": {},
     "output_type": "execute_result"
    }
   ],
   "source": [
    "batch_size = 50\n",
    "epochs = 15\n",
    "model.fit_generator(datagen.flow(x_train, y_train, batch_size=batch_size),\n",
    "                    validation_data=(x_validation, y_validation),\n",
    "                    epochs=epochs, verbose=1, workers=4, \n",
    "                    callbacks=[LearningRateScheduler(lr_schedule)])"
   ]
  },
  {
   "cell_type": "code",
   "execution_count": 21,
   "metadata": {},
   "outputs": [
    {
     "name": "stdout",
     "output_type": "stream",
     "text": [
      "Saved model to disk\n",
      "Loaded model from disk\n"
     ]
    }
   ],
   "source": [
    "model.save(f'{data_path}{\"pack_detector/\"}{\"model.h5\"}')\n",
    "print(\"Saved model to disk\")\n",
    "\n",
    "model_loaded = load_model(f'{data_path}{\"pack_detector/\"}{\"model.h5\"}')\n",
    "print(\"Loaded model from disk\")"
   ]
  },
  {
   "cell_type": "code",
   "execution_count": 22,
   "metadata": {
    "scrolled": true
   },
   "outputs": [
    {
     "name": "stdout",
     "output_type": "stream",
     "text": [
      "625/625 [==============================] - 16s 26ms/step\n",
      "Test loss: 0.7220046576499939\n",
      "Test accuracy: 0.8831999897956848\n"
     ]
    }
   ],
   "source": [
    "scores = model_loaded.evaluate(x_validation, y_validation, verbose=1)\n",
    "print('Test loss:', scores[0])\n",
    "print('Test accuracy:', scores[1])"
   ]
  },
  {
   "cell_type": "code",
   "execution_count": 23,
   "metadata": {},
   "outputs": [],
   "source": [
    "def plot_confusion_matrix(cm, classes, normalize=False, \n",
    "                          title='Confusion matrix', cmap=plt.cm.Blues):\n",
    "    if normalize:\n",
    "        cm = cm.astype('float') / cm.sum(axis=1)[:, np.newaxis]\n",
    "    plt.imshow(cm, interpolation='nearest', cmap=cmap)\n",
    "    plt.title(title)\n",
    "    plt.colorbar()\n",
    "    tick_marks = np.arange(len(classes))\n",
    "    plt.xticks(tick_marks, classes, rotation=45)\n",
    "    plt.yticks(tick_marks, classes)\n",
    "\n",
    "    fmt = '.2f' if normalize else 'd'\n",
    "    thresh = cm.max() / 2.\n",
    "    for i, j in itertools.product(range(cm.shape[0]), range(cm.shape[1])):\n",
    "        plt.text(j, i, format(cm[i, j], fmt),\n",
    "                 horizontalalignment=\"center\",\n",
    "                 color=\"white\" if cm[i, j] > thresh else \"black\")\n",
    "\n",
    "    plt.tight_layout()\n",
    "    plt.ylabel('True label')\n",
    "    plt.xlabel('Predicted label')"
   ]
  },
  {
   "cell_type": "code",
   "execution_count": 24,
   "metadata": {},
   "outputs": [],
   "source": [
    "# Confusion matrix to check classes recognition performance\n",
    "y_validation_cls = np.argmax(y_validation, axis=1)\n",
    "y_validation_predict = model.predict(x_validation)\n",
    "y_validation_predict_cls = np.argmax(y_validation_predict, axis=1)"
   ]
  },
  {
   "cell_type": "code",
   "execution_count": 25,
   "metadata": {},
   "outputs": [],
   "source": [
    "y_validation\n",
    "y_validation_score = []\n",
    "for row in y_validation_predict:\n",
    "    ind = np.argmax(row)\n",
    "    row = np.array((0.0, 0.0, 0.0, 0.0, 0.0, 0.0, 0.0, 0.0, 0.0, 0.0))\n",
    "    row[ind] = row[ind]+1\n",
    "    y_validation_score.append(row)\n",
    "y_validation_score = np.asarray(y_validation_score)"
   ]
  },
  {
   "cell_type": "code",
   "execution_count": 26,
   "metadata": {
    "scrolled": true
   },
   "outputs": [
    {
     "data": {
      "image/png": "[encoded data removed]",
      "text/plain": [
       "<Figure size 720x720 with 2 Axes>"
      ]
     },
     "metadata": {
      "needs_background": "light"
     },
     "output_type": "display_data"
    }
   ],
   "source": [
    "fig = plt.gcf()\n",
    "fig.set_size_inches(10, 10)\n",
    "cnf_matrix = confusion_matrix(y_validation_cls, y_validation_predict_cls)\n",
    "plot_confusion_matrix(cnf_matrix, [f'C{i+1}' for i in range(num_classes)], \n",
    "                      title='Confusion matrix', normalize=True)"
   ]
  },
  {
   "cell_type": "code",
   "execution_count": 33,
   "metadata": {},
   "outputs": [],
   "source": [
    "def writeToJSONFile(path, fileName, data):\n",
    "    filePathNameWExt = path + '/' + fileName + '.json'\n",
    "    with open(filePathNameWExt, 'a') as fp:\n",
    "        json.dump(data, fp, indent=4)"
   ]
  },
  {
   "cell_type": "code",
   "execution_count": 77,
   "metadata": {},
   "outputs": [],
   "source": [
    "data = classification_report(y_validation, y_validation_score, [0,1,2,3,4,5,6,7,8,9], digits=2, output_dict=True)\n",
    "writeToJSONFile(f'{data_path}{\"pack_detector\"}', \"tmp\", data)"
   ]
  },
  {
   "cell_type": "code",
   "execution_count": 78,
   "metadata": {},
   "outputs": [],
   "source": [
    "time.sleep(10)\n",
    "matrix={}\n",
    "average_precision=[0]*10\n",
    "with open(f'{data_path}{\"pack_detector/\"}{\"tmp.json\"}', 'r') as fp:\n",
    "    data = json.load(fp)\n",
    "    for i in range(num_classes):\n",
    "        average_precision[i] = average_precision_score(y_validation[:, i], y_validation_score[:, i])\n",
    "        matrix[str(i)]={\"mAP\": average_precision[i].tolist(), \"precision\" : data[str(i)]['precision'], \"recall\" : data[str(i)]['recall']}\n",
    "    writeToJSONFile(f'{data_path}{\"pack_detector\"}', \"metrics\", matrix)"
   ]
  },
  {
   "cell_type": "code",
   "execution_count": 36,
   "metadata": {},
   "outputs": [],
   "source": [
    "#Products Detection"
   ]
  },
  {
   "cell_type": "code",
   "execution_count": 37,
   "metadata": {},
   "outputs": [],
   "source": [
    "N_CROP_TRIALS = 6\n",
    "CROP_SIZE = 1000"
   ]
  },
  {
   "cell_type": "code",
   "execution_count": 38,
   "metadata": {},
   "outputs": [],
   "source": [
    "def rand_between(s, f):\n",
    "    if s == f:\n",
    "        return s\n",
    "    return np.random.randint(s, f)"
   ]
  },
  {
   "cell_type": "code",
   "execution_count": 39,
   "metadata": {},
   "outputs": [],
   "source": [
    "train_products, eval_products = [], []\n",
    "for img_file, is_train in training_df[['file', 'is_train']].values:\n",
    "    if is_train:\n",
    "        img_path = shelf_images_train\n",
    "    else:\n",
    "        img_path = shelf_images_test\n",
    "    img = cv2.imread(f'{img_path}{img_file}')\n",
    "    img_h, img_w, img_c = img.shape\n",
    "    for n in range(N_CROP_TRIALS):\n",
    "        c_size = rand_between(300, max(img_h, img_w))\n",
    "        x0 = rand_between(0, max(0, img_w - c_size))\n",
    "        y0 = rand_between(0, max(0, img_h - c_size))\n",
    "        x1 = min(img_w, x0 + c_size)\n",
    "        y1 = min(img_h, y0 + c_size)\n",
    "        crop_products = products_df[(products_df.file == img_file) & \n",
    "                                 (products_df.xmin > x0) & (products_df.xmax < x1) &\n",
    "                                 (products_df.ymin > y0) & (products_df.ymax < y1)]\n",
    "        if len(crop_products) == 0:\n",
    "            continue\n",
    "        crop_img_file = f'{img_file[:-4]}{x0}_{y0}_{x1}_{y1}.JPG'\n",
    "        crop = img[y0:y1, x0:x1]\n",
    "        h, w, c = crop.shape\n",
    "        ratio = min(CROP_SIZE/h, CROP_SIZE/w)\n",
    "        crop = cv2.resize(crop, (0,0), fx=ratio, fy=ratio)\n",
    "        crop = crop[0:CROP_SIZE, 0:CROP_SIZE]\n",
    "        h, w, c = crop.shape\n",
    "        # add crop inner products to train_products or eval_products list\n",
    "        for xmin, ymin, xmax, ymax in \\\n",
    "                crop_products[['xmin', 'ymin', 'xmax', 'ymax']].values:\n",
    "            xmin -= x0\n",
    "            xmax -= x0\n",
    "            ymin -= y0\n",
    "            ymax -= y0\n",
    "\n",
    "            xmin, xmax, ymin, ymax = [int(np.round(e * ratio)) \n",
    "                                      for e in [xmin, xmax, ymin, ymax]]\n",
    "            product = {'filename': crop_img_file, 'class':'pack', \n",
    "                       'width':w, 'height':h,\n",
    "                       'xmin':xmin, 'ymin':ymin, 'xmax':xmax, 'ymax':ymax}\n",
    "            if is_train:\n",
    "                train_products.append(product)\n",
    "            else:\n",
    "                eval_products.append(product)\n",
    "        subpath = ['eval/', 'train/'][is_train]\n",
    "        cv2.imwrite(f'{cropped_path}{subpath}{crop_img_file}', crop)"
   ]
  },
  {
   "cell_type": "code",
   "execution_count": 40,
   "metadata": {},
   "outputs": [],
   "source": [
    "train_df = pd.DataFrame(train_products).set_index('filename')\n",
    "eval_df = pd.DataFrame(eval_products).set_index('filename')"
   ]
  },
  {
   "cell_type": "code",
   "execution_count": 41,
   "metadata": {},
   "outputs": [],
   "source": [
    "def class_text_to_int(row_label):\n",
    "    if row_label == 'pack':\n",
    "        return 1\n",
    "    else:\n",
    "        None\n",
    "\n",
    "\n",
    "def split(df, group):\n",
    "    data = namedtuple('data', ['filename', 'object'])\n",
    "    gb = df.groupby(group)\n",
    "    return [data(filename, gb.get_group(x)) \n",
    "            for filename, x in zip(gb.groups.keys(), gb.groups)]\n",
    "\n",
    "\n",
    "def create_tf_example(group, path):\n",
    "    with tf.gfile.GFile(os.path.join(path, '{}'.format(group.filename)), 'rb') as fid:\n",
    "        encoded_jpg = fid.read()\n",
    "    encoded_jpg_io = io.BytesIO(encoded_jpg)\n",
    "    image = Image.open(encoded_jpg_io)\n",
    "    width, height = image.size\n",
    "\n",
    "    filename = group.filename.encode('utf8')\n",
    "    image_format = b'jpg'\n",
    "    xmins = []\n",
    "    xmaxs = []\n",
    "    ymins = []\n",
    "    ymaxs = []\n",
    "    classes_text = []\n",
    "    classes = []\n",
    "\n",
    "    for index, row in group.object.iterrows():\n",
    "        xmins.append(row['xmin'] / width)\n",
    "        xmaxs.append(row['xmax'] / width)\n",
    "        ymins.append(row['ymin'] / height)\n",
    "        ymaxs.append(row['ymax'] / height)\n",
    "        classes_text.append(row['class'].encode('utf8'))\n",
    "        classes.append(class_text_to_int(row['class']))\n",
    "\n",
    "    tf_example = tf.train.Example(features=tf.train.Features(feature={\n",
    "        'image/height': dataset_util.int64_feature(height),\n",
    "        'image/width': dataset_util.int64_feature(width),\n",
    "        'image/filename': dataset_util.bytes_feature(filename),\n",
    "        'image/source_id': dataset_util.bytes_feature(filename),\n",
    "        'image/encoded': dataset_util.bytes_feature(encoded_jpg),\n",
    "        'image/format': dataset_util.bytes_feature(image_format),\n",
    "        'image/object/bbox/xmin': dataset_util.float_list_feature(xmins),\n",
    "        'image/object/bbox/xmax': dataset_util.float_list_feature(xmaxs),\n",
    "        'image/object/bbox/ymin': dataset_util.float_list_feature(ymins),\n",
    "        'image/object/bbox/ymax': dataset_util.float_list_feature(ymaxs),\n",
    "        'image/object/class/text': dataset_util.bytes_list_feature(classes_text),\n",
    "        'image/object/class/label': dataset_util.int64_list_feature(classes),\n",
    "    }))\n",
    "    return tf_example"
   ]
  },
  {
   "cell_type": "code",
   "execution_count": 42,
   "metadata": {},
   "outputs": [],
   "source": [
    "def convert_to_tf_records(images_path, examples, dst_file):\n",
    "    writer = tf.io.TFRecordWriter(dst_file)\n",
    "    grouped = split(examples, 'filename')\n",
    "    for group in grouped:\n",
    "        tf_example = create_tf_example(group, images_path)\n",
    "        writer.write(tf_example.SerializeToString())\n",
    "    writer.close()"
   ]
  },
  {
   "cell_type": "code",
   "execution_count": 43,
   "metadata": {},
   "outputs": [],
   "source": [
    "convert_to_tf_records(f'{cropped_path}train/', train_df, f'{detector_data_path}train.record')\n",
    "convert_to_tf_records(f'{cropped_path}eval/', eval_df, f'{detector_data_path}eval.record')#"
   ]
  },
  {
   "cell_type": "code",
   "execution_count": 44,
   "metadata": {},
   "outputs": [
    {
     "data": {
      "text/html": [
       "<div>\n",
       "<style scoped>\n",
       "    .dataframe tbody tr th:only-of-type {\n",
       "        vertical-align: middle;\n",
       "    }\n",
       "\n",
       "    .dataframe tbody tr th {\n",
       "        vertical-align: top;\n",
       "    }\n",
       "\n",
       "    .dataframe thead th {\n",
       "        text-align: right;\n",
       "    }\n",
       "</style>\n",
       "<table border=\"1\" class=\"dataframe\">\n",
       "  <thead>\n",
       "    <tr style=\"text-align: right;\">\n",
       "      <th></th>\n",
       "      <th>file</th>\n",
       "      <th>shelf_id</th>\n",
       "      <th>planogram_id</th>\n",
       "      <th>is_train</th>\n",
       "    </tr>\n",
       "  </thead>\n",
       "  <tbody>\n",
       "    <tr>\n",
       "      <th>0</th>\n",
       "      <td>C4_P08_N2_S2_1.JPG</td>\n",
       "      <td>C4_P08</td>\n",
       "      <td>N2_S2_1</td>\n",
       "      <td>False</td>\n",
       "    </tr>\n",
       "    <tr>\n",
       "      <th>1</th>\n",
       "      <td>C1_P12_N1_S2_1.JPG</td>\n",
       "      <td>C1_P12</td>\n",
       "      <td>N1_S2_1</td>\n",
       "      <td>False</td>\n",
       "    </tr>\n",
       "    <tr>\n",
       "      <th>2</th>\n",
       "      <td>C2_P07_N2_S2_1.JPG</td>\n",
       "      <td>C2_P07</td>\n",
       "      <td>N2_S2_1</td>\n",
       "      <td>False</td>\n",
       "    </tr>\n",
       "    <tr>\n",
       "      <th>3</th>\n",
       "      <td>C4_P02_N4_S2_1.JPG</td>\n",
       "      <td>C4_P02</td>\n",
       "      <td>N4_S2_1</td>\n",
       "      <td>False</td>\n",
       "    </tr>\n",
       "    <tr>\n",
       "      <th>4</th>\n",
       "      <td>C3_P03_N1_S3_1.JPG</td>\n",
       "      <td>C3_P03</td>\n",
       "      <td>N1_S3_1</td>\n",
       "      <td>False</td>\n",
       "    </tr>\n",
       "  </tbody>\n",
       "</table>\n",
       "</div>"
      ],
      "text/plain": [
       "                 file shelf_id planogram_id  is_train\n",
       "0  C4_P08_N2_S2_1.JPG   C4_P08      N2_S2_1     False\n",
       "1  C1_P12_N1_S2_1.JPG   C1_P12      N1_S2_1     False\n",
       "2  C2_P07_N2_S2_1.JPG   C2_P07      N2_S2_1     False\n",
       "3  C4_P02_N4_S2_1.JPG   C4_P02      N4_S2_1     False\n",
       "4  C3_P03_N1_S3_1.JPG   C3_P03      N1_S3_1     False"
      ]
     },
     "execution_count": 44,
     "metadata": {},
     "output_type": "execute_result"
    }
   ],
   "source": [
    "# load photos dataframe to get all evaluation images names\n",
    "testing_df = training_df[~training_df.is_train]\n",
    "testing_df.head()"
   ]
  },
  {
   "cell_type": "code",
   "execution_count": 45,
   "metadata": {},
   "outputs": [],
   "source": [
    "# load frozen graph\n",
    "detection_graph = tf.Graph()\n",
    "with detection_graph.as_default():\n",
    "    od_graph_def = tf.GraphDef()\n",
    "    with tf.io.gfile.GFile(PATH_TO_MODEL, 'rb') as fid:\n",
    "        serialized_graph = fid.read()\n",
    "        od_graph_def.ParseFromString(serialized_graph)\n",
    "        tf.import_graph_def(od_graph_def, name='')"
   ]
  },
  {
   "cell_type": "code",
   "execution_count": 46,
   "metadata": {},
   "outputs": [
    {
     "name": "stdout",
     "output_type": "stream",
     "text": [
      "WARNING:tensorflow:From /Users/shubhamsingh/opt/anaconda3/lib/python3.7/site-packages/object_detection/utils/label_map_util.py:132: The name tf.gfile.GFile is deprecated. Please use tf.io.gfile.GFile instead.\n",
      "\n"
     ]
    }
   ],
   "source": [
    "# load categories (we have only 1 category pack)\n",
    "label_map = label_map_util.load_labelmap(PATH_TO_LABELS)\n",
    "categories = label_map_util.convert_label_map_to_categories(\n",
    "    label_map, max_num_classes=NUM_CLASSES, use_display_name=True)\n",
    "category_index = label_map_util.create_category_index(categories)"
   ]
  },
  {
   "cell_type": "code",
   "execution_count": 47,
   "metadata": {},
   "outputs": [],
   "source": [
    "# let's write function that executes detection\n",
    "def run_inference_for_single_image(image, image_tensor, sess, tensor_dict):\n",
    "    # Run inference\n",
    "    expanded_dims = np.expand_dims(image, 0)\n",
    "    output_dict = sess.run(tensor_dict, feed_dict={image_tensor: expanded_dims})\n",
    "    # all outputs are float32 numpy arrays, so convert types as appropriate\n",
    "    output_dict['num_detections'] = int(output_dict['num_detections'][0])\n",
    "    output_dict['detection_classes'] = output_dict['detection_classes'][0].astype(np.uint8)\n",
    "    output_dict['detection_boxes'] = output_dict['detection_boxes'][0]\n",
    "    output_dict['detection_scores'] = output_dict['detection_scores'][0]\n",
    "    return output_dict"
   ]
  },
  {
   "cell_type": "code",
   "execution_count": 48,
   "metadata": {},
   "outputs": [],
   "source": [
    "# it is useful to be able to run inference not only on the whole image,\n",
    "# but also on its parts\n",
    "# cutoff - minimum detection scrore needed to take box\n",
    "def run_inference_for_image_part(image_tensor, sess, tensor_dict, \n",
    "                                 image, cutoff, ax0, ay0, ax1, ay1):\n",
    "    boxes = []\n",
    "    im = image[ay0:ay1, ax0:ax1]\n",
    "    h, w, c = im.shape\n",
    "    output_dict = run_inference_for_single_image(im, image_tensor, sess, tensor_dict)\n",
    "    for i in range(100):\n",
    "        if output_dict['detection_scores'][i] < cutoff:\n",
    "            break\n",
    "        y0, x0, y1, x1, score = *output_dict['detection_boxes'][i], \\\n",
    "                                output_dict['detection_scores'][i]\n",
    "        x0, y0, x1, y1, score = int(x0*w), int(y0*h), \\\n",
    "                                int(x1*w), int(y1*h), \\\n",
    "                                int(score * 100)\n",
    "        boxes.append((x0+ax0, y0+ay0, x1+ax0, y1+ay0, score))\n",
    "    return boxes"
   ]
  },
  {
   "cell_type": "code",
   "execution_count": 49,
   "metadata": {},
   "outputs": [],
   "source": [
    "def run_inference_for_image_part_pcnt(image_tensor, sess, tensor_dict, \n",
    "                                 image, cutoff, p_ax0, p_ay0, p_ax1, p_ay1):\n",
    "    h, w, c = image.shape\n",
    "    max_x, max_y = w-1, h-1\n",
    "    return run_inference_for_image_part(\n",
    "                                image_tensor, sess, tensor_dict, \n",
    "                                image, cutoff, \n",
    "                                int(p_ax0*max_x), int(p_ay0*max_y), \n",
    "                                int(p_ax1*max_x), int(p_ay1*max_y))"
   ]
  },
  {
   "cell_type": "code",
   "execution_count": 50,
   "metadata": {},
   "outputs": [],
   "source": [
    "# function to display image with bounding boxes\n",
    "def display_image_with_boxes(image, boxes, file, p_x0=0, p_y0=0, p_x1=1, p_y1=1):\n",
    "    image = cv2.cvtColor(image, cv2.COLOR_BGR2RGB)\n",
    "    for x0, y0, x1, y1, score in boxes:\n",
    "        image = cv2.rectangle(image, (x0, y0), (x1, y1), (0,255,0), 5)\n",
    "    if p_x0 != 0 or p_y0 !=0 or p_x1 != 1 or p_y1 != 1:\n",
    "        h, w, c = image.shape\n",
    "        max_x, max_y = w-1, h-1\n",
    "        image = cv2.rectangle(image, \n",
    "                              (int(p_x0*max_x), int(p_y0*max_y)), \n",
    "                              (int(p_x1*max_x), int(p_y1*max_y)), (0,0,255), 5)\n",
    "    cv2.imwrite(f'{output_image_path}{file}', image)"
   ]
  },
  {
   "cell_type": "code",
   "execution_count": 51,
   "metadata": {},
   "outputs": [],
   "source": [
    "# initializations function\n",
    "def initialize_graph():\n",
    "    ops = tf.get_default_graph().get_operations()\n",
    "    all_tensor_names = {output.name\n",
    "                        for op in ops\n",
    "                        for output in op.outputs}\n",
    "    tensor_dict = {}\n",
    "    for key in ['num_detections', 'detection_boxes',\n",
    "                'detection_scores', 'detection_classes',\n",
    "                'detection_masks']:\n",
    "        tensor_name = key + ':0'\n",
    "        if tensor_name in all_tensor_names:\n",
    "            tensor_dict[key] = tf.get_default_graph().get_tensor_by_name(tensor_name)\n",
    "    image_tensor = tf.get_default_graph().get_tensor_by_name('image_tensor:0')\n",
    "    return image_tensor, tensor_dict"
   ]
  },
  {
   "cell_type": "code",
   "execution_count": 52,
   "metadata": {},
   "outputs": [],
   "source": [
    "# function for non-maximum suppression\n",
    "def non_max_suppression(boxes, overlapThresh):\n",
    "    if len(boxes) == 0:\n",
    "        return np.array([]).astype(\"int\")\n",
    "\n",
    "    if boxes.dtype.kind == \"i\":\n",
    "        boxes = boxes.astype(\"float\")\n",
    " \n",
    "    pick = []\n",
    "\n",
    "    x1 = boxes[:,0]\n",
    "    y1 = boxes[:,1]\n",
    "    x2 = boxes[:,2]\n",
    "    y2 = boxes[:,3]\n",
    "    sc = boxes[:,4]\n",
    " \n",
    "    area = (x2 - x1 + 1) * (y2 - y1 + 1)\n",
    "    idxs = np.argsort(sc)\n",
    " \n",
    "    while len(idxs) > 0:\n",
    "        last = len(idxs) - 1\n",
    "        i = idxs[last]\n",
    "        pick.append(i)\n",
    " \n",
    "        xx1 = np.maximum(x1[i], x1[idxs[:last]])\n",
    "        yy1 = np.maximum(y1[i], y1[idxs[:last]])\n",
    "        xx2 = np.minimum(x2[i], x2[idxs[:last]])\n",
    "        yy2 = np.minimum(y2[i], y2[idxs[:last]])\n",
    " \n",
    "        w = np.maximum(0, xx2 - xx1 + 1)\n",
    "        h = np.maximum(0, yy2 - yy1 + 1)\n",
    "\n",
    "        #todo fix overlap-contains...\n",
    "        overlap = (w * h) / area[idxs[:last]]\n",
    "         \n",
    "        idxs = np.delete(idxs, np.concatenate(([last],\n",
    "            np.where(overlap > overlapThresh)[0])))\n",
    "    \n",
    "    return boxes[pick].astype(\"int\")"
   ]
  },
  {
   "cell_type": "code",
   "execution_count": 53,
   "metadata": {},
   "outputs": [],
   "source": [
    "def do_sliding_window_inference_with_nm_suppression(file, cutoff):\n",
    "    with detection_graph.as_default():\n",
    "        with tf.Session() as sess:\n",
    "            image_tensor, tensor_dict = initialize_graph()\n",
    "            image = cv2.imread(f'{PATH_TO_IMAGES}{file}')\n",
    "            h, w, c = image.shape\n",
    "            boxes = run_inference_for_image_part_pcnt(\n",
    "                image_tensor, sess, tensor_dict, image, cutoff, 0, 0, 1, 1)\n",
    "            a = np.array(boxes)\n",
    "            mean_dx = int(np.mean(a[:,2]-a[:,0]))\n",
    "            mean_dy = int(np.mean(a[:,3]-a[:,1]))\n",
    "            step_x, step_y = mean_dx, mean_dy\n",
    "            window_size = 2*mean_dy\n",
    "            boxes = []\n",
    "            y0 = 0\n",
    "            while y0 < h-1:\n",
    "                x0 = 0\n",
    "                while x0 < w-1:\n",
    "                    x1, y1 = x0 + window_size, y0 + window_size\n",
    "                    boxes += run_inference_for_image_part(\n",
    "                        image_tensor, sess, tensor_dict, image, cutoff, \n",
    "                        x0, y0, x1, y1)\n",
    "                    x0 += step_y\n",
    "                y0 += step_x\n",
    "            boxes = non_max_suppression(np.array(boxes), 0.5)\n",
    "            display_image_with_boxes(image, boxes, file)\n",
    "            return len(boxes)"
   ]
  },
  {
   "cell_type": "code",
   "execution_count": 54,
   "metadata": {},
   "outputs": [],
   "source": [
    "data ={}\n",
    "annotation_df = pd.read_csv(f'{PATH_TO_ANNOTATION}', header = None)\n",
    "for test_file in testing_df.file:\n",
    "    boxes = do_sliding_window_inference_with_nm_suppression(test_file, 0.7)\n",
    "    data[test_file] = boxes\n",
    "writeToJSONFile(f'{data_path}{\"pack_detector\"}', \"image2products\", data)    \n",
    "    "
   ]
  },
  {
   "cell_type": "code",
   "execution_count": 67,
   "metadata": {},
   "outputs": [
    {
     "name": "stdout",
     "output_type": "stream",
     "text": [
      "All Files are Removed!\n"
     ]
    }
   ],
   "source": [
    "#removing output file so that don't get any error at runtime\n",
    "\n",
    "import os\n",
    "try:\n",
    "    os.remove(f'{absolute_path}{\"pack_detector/image2products.json\"}')\n",
    "    os.remove(f'{absolute_path}{\"pack_detector/tmp.json\"}')\n",
    "    os.remove(f'{absolute_path}{\"pack_detector/metrics.json\"}')\n",
    "    print(\"All Files are Removed!\")\n",
    "except:\n",
    "    pass"
   ]
  },
  {
   "cell_type": "code",
   "execution_count": 68,
   "metadata": {},
   "outputs": [],
   "source": [
    "data = classification_report(y_validation, y_validation_score, [0,1,2,3,4,5,6,7,8,9], digits=2, output_dict=True)\n",
    "writeToJSONFile(f'{data_path}{\"pack_detector\"}', \"tmp\", data)"
   ]
  },
  {
   "cell_type": "code",
   "execution_count": 69,
   "metadata": {},
   "outputs": [],
   "source": [
    "\n",
    "matrix={}\n",
    "average_precision=[0]*10\n",
    "with open(f'{data_path}{\"pack_detector/\"}{\"tmp.json\"}', 'r') as fp:\n",
    "    data = json.load(fp)\n",
    "    for i in range(num_classes):\n",
    "        average_precision[i] = average_precision_score(y_validation[:, i], y_validation_score[:, i])\n",
    "        matrix[str(i)]={\"mAP\": average_precision[i].tolist(), \"precision\" : data[str(i)]['precision'], \"recall\" : data[str(i)]['recall']}\n",
    "    writeToJSONFile(f'{data_path}{\"pack_detector\"}', \"metrics\", matrix)"
   ]
  },
  {
   "cell_type": "code",
   "execution_count": null,
   "metadata": {},
   "outputs": [],
   "source": []
  }
 ],
 "metadata": {
  "kernelspec": {
   "display_name": "Python 3",
   "language": "python",
   "name": "python3"
  },
  "language_info": {
   "codemirror_mode": {
    "name": "ipython",
    "version": 3
   },
   "file_extension": ".py",
   "mimetype": "text/x-python",
   "name": "python",
   "nbconvert_exporter": "python",
   "pygments_lexer": "ipython3",
   "version": "3.7.6"
  }
 },
 "nbformat": 4,
 "nbformat_minor": 2
}
